{
 "cells": [
  {
   "cell_type": "code",
   "execution_count": 6,
   "metadata": {},
   "outputs": [],
   "source": [
    "import numpy as np\n",
    "import h5py\n",
    "import yaml\n",
    "import os\n",
    "import scipy as sp\n",
    "import scipy.stats as stats\n",
    "import matplotlib.pyplot as plt\n",
    "import pandas as pd\n",
    "\n",
    "plt.style.use('dark_background')\n"
   ]
  },
  {
   "cell_type": "code",
   "execution_count": 8,
   "metadata": {},
   "outputs": [],
   "source": [
    "n_pix = 20\n",
    "n_sbplots = 24\n",
    "\n",
    "def plot_im(ax, n_pix, min, max, mid):\n",
    "    field = np.zeros((n_pix,n_pix))\n",
    "    field[::2, :] = max\n",
    "    field[1::2, :] = min\n",
    "    ax.imshow(field, cmap='gray', interpolation='none', clim=[0,1])\n",
    "    mid_fig = plt.Circle((n_pix/2,n_pix/2), radius=n_pix/3, color=[mid,mid,mid])\n",
    "    ax.add_patch(mid_fig)\n",
    "\n",
    "mins, maxs = np.linspace(0, 0.45, n_sbplots), np.linspace(1, 0.55, n_sbplots)[::-1]\n",
    "\n",
    "\n",
    "f, sbps = plt.subplots(n_sbplots, n_sbplots, figsize=(40,40))\n",
    "for i in range(n_sbplots):\n",
    "    for j in range(n_sbplots):\n",
    "        ax = sbps[i,j]\n",
    "        plot_im(ax, n_pix, mins[i], maxs[j], 0.5)\n",
    "        ax.set_xticks([])\n",
    "        ax.set_yticks([])\n",
    "        # ax.set_xlabel(f'{mins[i]:.2f}')\n",
    "        # ax.set_ylabel(f'{maxs[j]:.2f}')\n",
    "        # ax.set_title(f'{mins[i]:.2f} - {maxs[j]:.2f}')\n",
    "plt.axis('off')\n",
    "plt.tight_layout()\n",
    "plt.savefig('gamma.png')"
   ]
  },
  {
   "cell_type": "code",
   "execution_count": null,
   "metadata": {},
   "outputs": [],
   "source": []
  }
 ],
 "metadata": {
  "kernelspec": {
   "display_name": "Python 3.9.13 ('exp')",
   "language": "python",
   "name": "python3"
  },
  "language_info": {
   "codemirror_mode": {
    "name": "ipython",
    "version": 3
   },
   "file_extension": ".py",
   "mimetype": "text/x-python",
   "name": "python",
   "nbconvert_exporter": "python",
   "pygments_lexer": "ipython3",
   "version": "3.9.13"
  },
  "orig_nbformat": 4,
  "vscode": {
   "interpreter": {
    "hash": "c8c300d1c063463de594b05ab75493aa9fd263e38ca3efa77c2398f139fbe6bc"
   }
  }
 },
 "nbformat": 4,
 "nbformat_minor": 2
}
