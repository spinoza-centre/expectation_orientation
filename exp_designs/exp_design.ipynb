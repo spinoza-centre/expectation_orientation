{
 "cells": [
  {
   "cell_type": "code",
   "execution_count": 33,
   "metadata": {},
   "outputs": [],
   "source": [
    "import numpy as np\n",
    "import h5py\n",
    "import yaml\n",
    "import os\n",
    "import scipy as sp\n",
    "import scipy.stats as stats\n",
    "import matplotlib.pyplot as plt\n",
    "\n",
    "plt.style.use('dark_background')\n"
   ]
  },
  {
   "cell_type": "code",
   "execution_count": 68,
   "metadata": {},
   "outputs": [
    {
     "name": "stdout",
     "output_type": "stream",
     "text": [
      "90\n"
     ]
    }
   ],
   "source": [
    "run_duration = 360\n",
    "outro_duration, intro_duration = 16, 16\n",
    "trial_duration = 4\n",
    "total_n_trials = int(run_duration / trial_duration)\n",
    "n_empty_trials = 10\n",
    "print(total_n_trials)"
   ]
  },
  {
   "cell_type": "code",
   "execution_count": 66,
   "metadata": {},
   "outputs": [],
   "source": [
    "def create_train_order(total_n_trials=90, \n",
    "                        n_empty_trials=10, \n",
    "                        n_ori_distribution_blocks=4,\n",
    "                        empty_trial_slack=2):\n",
    "    \"\"\"\n",
    "    Returns a list of trial orientations, one for each trial.\n",
    "    \"\"\"\n",
    "    basic_orientations = np.linspace(0, np.pi, total_n_trials-n_empty_trials, endpoint=False)\n",
    "    orientations = np.zeros(total_n_trials)\n",
    "\n",
    "    empty_stride_f = total_n_trials/(n_empty_trials+1)\n",
    "    empty_trials = np.cumsum(np.ones(n_empty_trials)*empty_stride_f).astype(int)\n",
    "    empty_trials += np.random.randint(-2,2,size=len(empty_trials))\n",
    "\n",
    "    random_orientations = np.array([np.random.permutation(a) \n",
    "                                    for a in [basic_orientations[i::n_ori_distribution_blocks] \n",
    "                                                        for i in range(n_ori_distribution_blocks)]]).ravel()\n",
    "    # print(random_orientations)\n",
    "    skip = 0\n",
    "    for i in range(len(orientations)):\n",
    "        if i in empty_trials:\n",
    "            orientations[i] = np.nan\n",
    "            skip += 1\n",
    "        else:\n",
    "            orientations[i] = random_orientations[i-skip]\n",
    "\n",
    "    return orientations"
   ]
  },
  {
   "cell_type": "code",
   "execution_count": 69,
   "metadata": {},
   "outputs": [
    {
     "name": "stdout",
     "output_type": "stream",
     "text": [
      "[0.         0.03926991 0.07853982 0.11780972 0.15707963 0.19634954\n",
      " 0.23561945 0.27488936 0.31415927 0.35342917 0.39269908 0.43196899\n",
      " 0.4712389  0.51050881 0.54977871 0.58904862 0.62831853 0.66758844\n",
      " 0.70685835 0.74612826 0.78539816 0.82466807 0.86393798 0.90320789\n",
      " 0.9424778  0.9817477  1.02101761 1.06028752 1.09955743 1.13882734\n",
      " 1.17809725 1.21736715 1.25663706 1.29590697 1.33517688 1.37444679\n",
      " 1.41371669 1.4529866  1.49225651 1.53152642 1.57079633 1.61006623\n",
      " 1.64933614 1.68860605 1.72787596 1.76714587 1.80641578 1.84568568\n",
      " 1.88495559 1.9242255  1.96349541 2.00276532 2.04203522 2.08130513\n",
      " 2.12057504 2.15984495 2.19911486 2.23838477 2.27765467 2.31692458\n",
      " 2.35619449 2.3954644  2.43473431 2.47400421 2.51327412 2.55254403\n",
      " 2.59181394 2.63108385 2.67035376 2.70962366 2.74889357 2.78816348\n",
      " 2.82743339 2.8667033  2.9059732  2.94524311 2.98451302 3.02378293\n",
      " 3.06305284 3.10232275]\n"
     ]
    },
    {
     "data": {
      "text/plain": [
       "[<matplotlib.lines.Line2D at 0x11b647e20>]"
      ]
     },
     "execution_count": 69,
     "metadata": {},
     "output_type": "execute_result"
    },
    {
     "data": {
      "image/png": "[encoded data removed]",
      "text/plain": [
       "<Figure size 432x288 with 1 Axes>"
      ]
     },
     "metadata": {},
     "output_type": "display_data"
    }
   ],
   "source": [
    "plt.plot(create_train_order(), 'wo')"
   ]
  },
  {
   "cell_type": "code",
   "execution_count": 54,
   "metadata": {},
   "outputs": [
    {
     "data": {
      "text/plain": [
       "(0.0, 3.141592653589793)"
      ]
     },
     "execution_count": 54,
     "metadata": {},
     "output_type": "execute_result"
    },
    {
     "data": {
      "image/png": "[encoded data removed]",
      "text/plain": [
       "<Figure size 432x288 with 1 Axes>"
      ]
     },
     "metadata": {},
     "output_type": "display_data"
    }
   ],
   "source": [
    "plt.plot(np.random.vonmises(np.pi/4, 0.5, total_n_trials-n_empty_trials), 'wo')\n",
    "plt.ylim([0,np.pi])"
   ]
  },
  {
   "cell_type": "code",
   "execution_count": 26,
   "metadata": {},
   "outputs": [
    {
     "data": {
      "text/plain": [
       "array([-1, -1,  0, -2,  1,  1,  0,  2,  1, -1])"
      ]
     },
     "execution_count": 26,
     "metadata": {},
     "output_type": "execute_result"
    }
   ],
   "source": []
  }
 ],
 "metadata": {
  "kernelspec": {
   "display_name": "Python 3.9.13 ('exp')",
   "language": "python",
   "name": "python3"
  },
  "language_info": {
   "codemirror_mode": {
    "name": "ipython",
    "version": 3
   },
   "file_extension": ".py",
   "mimetype": "text/x-python",
   "name": "python",
   "nbconvert_exporter": "python",
   "pygments_lexer": "ipython3",
   "version": "3.9.13"
  },
  "orig_nbformat": 4,
  "vscode": {
   "interpreter": {
    "hash": "c8c300d1c063463de594b05ab75493aa9fd263e38ca3efa77c2398f139fbe6bc"
   }
  }
 },
 "nbformat": 4,
 "nbformat_minor": 2
}
